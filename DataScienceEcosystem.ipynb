{
 "cells": [
  {
   "cell_type": "code",
   "execution_count": null,
   "id": "7051fcdb",
   "metadata": {},
   "outputs": [],
   "source": [
    "# Data Science Tools and Ecosystem"
   ]
  },
  {
   "cell_type": "code",
   "execution_count": null,
   "id": "3606e0da",
   "metadata": {},
   "outputs": [],
   "source": [
    "In this notebook, Data Science Tools and Ecosystem are summarized."
   ]
  },
  {
   "cell_type": "code",
   "execution_count": null,
   "id": "e316c3d7",
   "metadata": {},
   "outputs": [],
   "source": [
    "Some of the popular languages that Data Scientists use are:\n",
    "1. Python\n",
    "2. R\n",
    "3. Julia"
   ]
  },
  {
   "cell_type": "code",
   "execution_count": null,
   "id": "052e61ea",
   "metadata": {},
   "outputs": [],
   "source": [
    "Some of the commonly used libraries used by Data Scientists include:\n",
    "1. NumPy\n",
    "2. Pandas\n",
    "3. Matplotlib"
   ]
  },
  {
   "cell_type": "code",
   "execution_count": null,
   "id": "3d849dac",
   "metadata": {},
   "outputs": [],
   "source": [
    "| Data Science Tools       |\n",
    "|-------------------------|\n",
    "| Jupyter Notebook        |\n",
    "| RStudio                 |\n",
    "| Visual Studio Code (VSCode) |"
   ]
  },
  {
   "cell_type": "code",
   "execution_count": null,
   "id": "6ed9c262",
   "metadata": {},
   "outputs": [],
   "source": [
    "### Below are a few examples of evaluating arithmetic expressions in Python.\n",
    "\n",
    "Here are some examples of arithmetic expressions in Python:\n",
    "\n",
    "- Addition: `5 + 3` equals 8.\n",
    "- Subtraction: `10 - 4` equals 6.\n",
    "- Multiplication: `7 * 2` equals 14.\n",
    "- Division: `15 / 3` equals 5.\n",
    "\n",
    "You can use these operators to perform basic arithmetic operations in Python.\n"
   ]
  },
  {
   "cell_type": "code",
   "execution_count": null,
   "id": "3d8bcf0c",
   "metadata": {},
   "outputs": [],
   "source": [
    "# This is a simple arithmetic expression to multiply, then add integers.\n",
    "(3*4) + 5"
   ]
  },
  {
   "cell_type": "code",
   "execution_count": null,
   "id": "e72d5336",
   "metadata": {},
   "outputs": [],
   "source": [
    "# This will convert 200 minutes to hours by dividing by 60.\n",
    "200 / 60"
   ]
  },
  {
   "cell_type": "code",
   "execution_count": null,
   "id": "e5c2b046",
   "metadata": {},
   "outputs": [],
   "source": [
    "**Objectives:**\n",
    "* List popular languages for Data Science\n",
    "* Explain the concept of data science libraries\n",
    "* Introduce basic data manipulation techniques\n",
    "* Provide examples of data visualization\n",
    "* Demonstrate simple arithmetic and conversion operations\n"
   ]
  },
  {
   "cell_type": "code",
   "execution_count": null,
   "id": "a501ad63",
   "metadata": {},
   "outputs": [],
   "source": [
    "## Author\n",
    "Yasein Shikhada\n"
   ]
  },
  {
   "cell_type": "code",
   "execution_count": null,
   "id": "e402e7ae",
   "metadata": {},
   "outputs": [],
   "source": []
  }
 ],
 "metadata": {
  "kernelspec": {
   "display_name": "Python 3 (ipykernel)",
   "language": "python",
   "name": "python3"
  },
  "language_info": {
   "codemirror_mode": {
    "name": "ipython",
    "version": 3
   },
   "file_extension": ".py",
   "mimetype": "text/x-python",
   "name": "python",
   "nbconvert_exporter": "python",
   "pygments_lexer": "ipython3",
   "version": "3.10.9"
  }
 },
 "nbformat": 4,
 "nbformat_minor": 5
}
